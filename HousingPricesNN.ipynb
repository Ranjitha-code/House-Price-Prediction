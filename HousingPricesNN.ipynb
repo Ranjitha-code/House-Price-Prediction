{
  "cells": [
    {
      "cell_type": "markdown",
      "metadata": {
        "id": "8Yw1EhxPWWqi"
      },
      "source": [
        "**First things first, import the necessary dependencies**"
      ]
    },
    {
      "cell_type": "code",
      "execution_count": null,
      "metadata": {
        "id": "zIuSLCZqWU-5"
      },
      "outputs": [],
      "source": [
        "import keras\n",
        "import numpy as np\n",
        "import pandas as pd"
      ]
    },
    {
      "cell_type": "markdown",
      "metadata": {
        "id": "-uuOjI-VWiRd"
      },
      "source": [
        "**Next, import the data**"
      ]
    },
    {
      "cell_type": "code",
      "execution_count": null,
      "metadata": {
        "colab": {
          "base_uri": "https://localhost:8080/",
          "height": 224
        },
        "id": "5yg7lddCy31j",
        "outputId": "59e5dd9e-710a-4120-9c56-cbc0d6aa9c5c"
      },
      "outputs": [
        {
          "output_type": "stream",
          "name": "stdout",
          "text": [
            "Mounted at /content/drive\n"
          ]
        },
        {
          "output_type": "execute_result",
          "data": {
            "text/plain": [
              "   YearBuilt  2ndFlrSF  GrLivArea  FullBath  HalfBath  BedroomAbvGr  \\\n",
              "0       2003       854       1710         2         1             3   \n",
              "1       1976         0       1262         2         0             3   \n",
              "2       2001       866       1786         2         1             3   \n",
              "3       1915       756       1717         1         0             3   \n",
              "4       2000      1053       2198         2         1             4   \n",
              "\n",
              "   TotRmsAbvGrd  YrSold  SalePrice  \n",
              "0             8    2008     208500  \n",
              "1             6    2007     181500  \n",
              "2             6    2008     223500  \n",
              "3             7    2006     140000  \n",
              "4             9    2008     250000  "
            ],
            "text/html": [
              "\n",
              "  <div id=\"df-a1e328e7-89e0-4848-aa5e-174e664c00fb\">\n",
              "    <div class=\"colab-df-container\">\n",
              "      <div>\n",
              "<style scoped>\n",
              "    .dataframe tbody tr th:only-of-type {\n",
              "        vertical-align: middle;\n",
              "    }\n",
              "\n",
              "    .dataframe tbody tr th {\n",
              "        vertical-align: top;\n",
              "    }\n",
              "\n",
              "    .dataframe thead th {\n",
              "        text-align: right;\n",
              "    }\n",
              "</style>\n",
              "<table border=\"1\" class=\"dataframe\">\n",
              "  <thead>\n",
              "    <tr style=\"text-align: right;\">\n",
              "      <th></th>\n",
              "      <th>YearBuilt</th>\n",
              "      <th>2ndFlrSF</th>\n",
              "      <th>GrLivArea</th>\n",
              "      <th>FullBath</th>\n",
              "      <th>HalfBath</th>\n",
              "      <th>BedroomAbvGr</th>\n",
              "      <th>TotRmsAbvGrd</th>\n",
              "      <th>YrSold</th>\n",
              "      <th>SalePrice</th>\n",
              "    </tr>\n",
              "  </thead>\n",
              "  <tbody>\n",
              "    <tr>\n",
              "      <th>0</th>\n",
              "      <td>2003</td>\n",
              "      <td>854</td>\n",
              "      <td>1710</td>\n",
              "      <td>2</td>\n",
              "      <td>1</td>\n",
              "      <td>3</td>\n",
              "      <td>8</td>\n",
              "      <td>2008</td>\n",
              "      <td>208500</td>\n",
              "    </tr>\n",
              "    <tr>\n",
              "      <th>1</th>\n",
              "      <td>1976</td>\n",
              "      <td>0</td>\n",
              "      <td>1262</td>\n",
              "      <td>2</td>\n",
              "      <td>0</td>\n",
              "      <td>3</td>\n",
              "      <td>6</td>\n",
              "      <td>2007</td>\n",
              "      <td>181500</td>\n",
              "    </tr>\n",
              "    <tr>\n",
              "      <th>2</th>\n",
              "      <td>2001</td>\n",
              "      <td>866</td>\n",
              "      <td>1786</td>\n",
              "      <td>2</td>\n",
              "      <td>1</td>\n",
              "      <td>3</td>\n",
              "      <td>6</td>\n",
              "      <td>2008</td>\n",
              "      <td>223500</td>\n",
              "    </tr>\n",
              "    <tr>\n",
              "      <th>3</th>\n",
              "      <td>1915</td>\n",
              "      <td>756</td>\n",
              "      <td>1717</td>\n",
              "      <td>1</td>\n",
              "      <td>0</td>\n",
              "      <td>3</td>\n",
              "      <td>7</td>\n",
              "      <td>2006</td>\n",
              "      <td>140000</td>\n",
              "    </tr>\n",
              "    <tr>\n",
              "      <th>4</th>\n",
              "      <td>2000</td>\n",
              "      <td>1053</td>\n",
              "      <td>2198</td>\n",
              "      <td>2</td>\n",
              "      <td>1</td>\n",
              "      <td>4</td>\n",
              "      <td>9</td>\n",
              "      <td>2008</td>\n",
              "      <td>250000</td>\n",
              "    </tr>\n",
              "  </tbody>\n",
              "</table>\n",
              "</div>\n",
              "      <button class=\"colab-df-convert\" onclick=\"convertToInteractive('df-a1e328e7-89e0-4848-aa5e-174e664c00fb')\"\n",
              "              title=\"Convert this dataframe to an interactive table.\"\n",
              "              style=\"display:none;\">\n",
              "        \n",
              "  <svg xmlns=\"http://www.w3.org/2000/svg\" height=\"24px\"viewBox=\"0 0 24 24\"\n",
              "       width=\"24px\">\n",
              "    <path d=\"M0 0h24v24H0V0z\" fill=\"none\"/>\n",
              "    <path d=\"M18.56 5.44l.94 2.06.94-2.06 2.06-.94-2.06-.94-.94-2.06-.94 2.06-2.06.94zm-11 1L8.5 8.5l.94-2.06 2.06-.94-2.06-.94L8.5 2.5l-.94 2.06-2.06.94zm10 10l.94 2.06.94-2.06 2.06-.94-2.06-.94-.94-2.06-.94 2.06-2.06.94z\"/><path d=\"M17.41 7.96l-1.37-1.37c-.4-.4-.92-.59-1.43-.59-.52 0-1.04.2-1.43.59L10.3 9.45l-7.72 7.72c-.78.78-.78 2.05 0 2.83L4 21.41c.39.39.9.59 1.41.59.51 0 1.02-.2 1.41-.59l7.78-7.78 2.81-2.81c.8-.78.8-2.07 0-2.86zM5.41 20L4 18.59l7.72-7.72 1.47 1.35L5.41 20z\"/>\n",
              "  </svg>\n",
              "      </button>\n",
              "      \n",
              "  <style>\n",
              "    .colab-df-container {\n",
              "      display:flex;\n",
              "      flex-wrap:wrap;\n",
              "      gap: 12px;\n",
              "    }\n",
              "\n",
              "    .colab-df-convert {\n",
              "      background-color: #E8F0FE;\n",
              "      border: none;\n",
              "      border-radius: 50%;\n",
              "      cursor: pointer;\n",
              "      display: none;\n",
              "      fill: #1967D2;\n",
              "      height: 32px;\n",
              "      padding: 0 0 0 0;\n",
              "      width: 32px;\n",
              "    }\n",
              "\n",
              "    .colab-df-convert:hover {\n",
              "      background-color: #E2EBFA;\n",
              "      box-shadow: 0px 1px 2px rgba(60, 64, 67, 0.3), 0px 1px 3px 1px rgba(60, 64, 67, 0.15);\n",
              "      fill: #174EA6;\n",
              "    }\n",
              "\n",
              "    [theme=dark] .colab-df-convert {\n",
              "      background-color: #3B4455;\n",
              "      fill: #D2E3FC;\n",
              "    }\n",
              "\n",
              "    [theme=dark] .colab-df-convert:hover {\n",
              "      background-color: #434B5C;\n",
              "      box-shadow: 0px 1px 3px 1px rgba(0, 0, 0, 0.15);\n",
              "      filter: drop-shadow(0px 1px 2px rgba(0, 0, 0, 0.3));\n",
              "      fill: #FFFFFF;\n",
              "    }\n",
              "  </style>\n",
              "\n",
              "      <script>\n",
              "        const buttonEl =\n",
              "          document.querySelector('#df-a1e328e7-89e0-4848-aa5e-174e664c00fb button.colab-df-convert');\n",
              "        buttonEl.style.display =\n",
              "          google.colab.kernel.accessAllowed ? 'block' : 'none';\n",
              "\n",
              "        async function convertToInteractive(key) {\n",
              "          const element = document.querySelector('#df-a1e328e7-89e0-4848-aa5e-174e664c00fb');\n",
              "          const dataTable =\n",
              "            await google.colab.kernel.invokeFunction('convertToInteractive',\n",
              "                                                     [key], {});\n",
              "          if (!dataTable) return;\n",
              "\n",
              "          const docLinkHtml = 'Like what you see? Visit the ' +\n",
              "            '<a target=\"_blank\" href=https://colab.research.google.com/notebooks/data_table.ipynb>data table notebook</a>'\n",
              "            + ' to learn more about interactive tables.';\n",
              "          element.innerHTML = '';\n",
              "          dataTable['output_type'] = 'display_data';\n",
              "          await google.colab.output.renderOutput(dataTable, element);\n",
              "          const docLink = document.createElement('div');\n",
              "          docLink.innerHTML = docLinkHtml;\n",
              "          element.appendChild(docLink);\n",
              "        }\n",
              "      </script>\n",
              "    </div>\n",
              "  </div>\n",
              "  "
            ]
          },
          "metadata": {},
          "execution_count": 2
        }
      ],
      "source": [
        "#If you want to import from Drive\n",
        "from google.colab import drive\n",
        "drive.mount('/content/drive')\n",
        "df=pd.read_csv('drive/My Drive/Courses/LearnML/2.DNNs/HousingPrices.csv')\n",
        "df.head()"
      ]
    },
    {
      "cell_type": "markdown",
      "metadata": {
        "id": "TbF22MfYU3TC"
      },
      "source": [
        "**Now we set our x value to every attribute except for the sale price, and our y value to the sale price, since that will be what we are predicting**"
      ]
    },
    {
      "cell_type": "code",
      "execution_count": null,
      "metadata": {
        "id": "IhP7c3LKzFgS"
      },
      "outputs": [],
      "source": [
        "X = df.drop(columns=['SalePrice'])\n",
        "Y = df[['SalePrice']]"
      ]
    },
    {
      "cell_type": "markdown",
      "metadata": {
        "id": "PcAtTTwPVE_m"
      },
      "source": [
        "**Let's build the model**"
      ]
    },
    {
      "cell_type": "code",
      "execution_count": null,
      "metadata": {
        "colab": {
          "base_uri": "https://localhost:8080/",
          "height": 199
        },
        "id": "TYc5ilS11mzU",
        "outputId": "f10fd490-ffba-4092-9fd1-c2eab8c8d3d7"
      },
      "outputs": [
        {
          "name": "stderr",
          "output_type": "stream",
          "text": [
            "WARNING: Logging before flag parsing goes to stderr.\n",
            "W0826 19:24:59.128864 140368784877440 deprecation_wrapper.py:119] From /usr/local/lib/python3.6/dist-packages/keras/backend/tensorflow_backend.py:74: The name tf.get_default_graph is deprecated. Please use tf.compat.v1.get_default_graph instead.\n",
            "\n",
            "W0826 19:24:59.188923 140368784877440 deprecation_wrapper.py:119] From /usr/local/lib/python3.6/dist-packages/keras/backend/tensorflow_backend.py:517: The name tf.placeholder is deprecated. Please use tf.compat.v1.placeholder instead.\n",
            "\n",
            "W0826 19:24:59.198087 140368784877440 deprecation_wrapper.py:119] From /usr/local/lib/python3.6/dist-packages/keras/backend/tensorflow_backend.py:4138: The name tf.random_uniform is deprecated. Please use tf.random.uniform instead.\n",
            "\n",
            "W0826 19:24:59.246445 140368784877440 deprecation_wrapper.py:119] From /usr/local/lib/python3.6/dist-packages/keras/optimizers.py:790: The name tf.train.Optimizer is deprecated. Please use tf.compat.v1.train.Optimizer instead.\n",
            "\n"
          ]
        }
      ],
      "source": [
        "model = keras.models.Sequential()\n",
        "\n",
        "model.add(keras.layers.Dense(8, activation='relu', input_shape=(8,)))\n",
        "model.add(keras.layers.Dense(8, activation='relu'))\n",
        "model.add(keras.layers.Dense(1))\n",
        "\n",
        "model.compile(optimizer='adam', loss='mean_squared_error')"
      ]
    },
    {
      "cell_type": "markdown",
      "metadata": {
        "id": "zfqX5-xFVJmW"
      },
      "source": [
        "**When we fit the model here, we are going to do something different. Keras has a built in feature called EarlyStopping that will stop the model when no more progress is being made. This saves GPU power and helps prevent our model from overfitting.**"
      ]
    },
    {
      "cell_type": "code",
      "execution_count": null,
      "metadata": {
        "colab": {
          "base_uri": "https://localhost:8080/",
          "height": 1000
        },
        "id": "eI3f8aUS2FJr",
        "outputId": "8969280f-cda4-47a1-b7bf-0d5bd86c9825"
      },
      "outputs": [
        {
          "name": "stderr",
          "output_type": "stream",
          "text": [
            "W0826 19:25:13.414828 140368784877440 deprecation_wrapper.py:119] From /usr/local/lib/python3.6/dist-packages/keras/backend/tensorflow_backend.py:986: The name tf.assign_add is deprecated. Please use tf.compat.v1.assign_add instead.\n",
            "\n",
            "W0826 19:25:13.502914 140368784877440 deprecation_wrapper.py:119] From /usr/local/lib/python3.6/dist-packages/keras/backend/tensorflow_backend.py:973: The name tf.assign is deprecated. Please use tf.compat.v1.assign instead.\n",
            "\n"
          ]
        },
        {
          "name": "stdout",
          "output_type": "stream",
          "text": [
            "Epoch 1/30\n",
            "1460/1460 [==============================] - 1s 483us/step - loss: 39123046500.9973\n",
            "Epoch 2/30\n",
            "1460/1460 [==============================] - 0s 30us/step - loss: 38794509028.6466\n",
            "Epoch 3/30\n",
            "1460/1460 [==============================] - 0s 31us/step - loss: 38298743894.9699\n",
            "Epoch 4/30\n",
            "1460/1460 [==============================] - 0s 33us/step - loss: 37554355247.6931\n",
            "Epoch 5/30\n",
            "1312/1460 [=========================>....] - ETA: 0s - loss: 36703149980.0976"
          ]
        },
        {
          "name": "stderr",
          "output_type": "stream",
          "text": [
            "/usr/local/lib/python3.6/dist-packages/keras/callbacks.py:569: RuntimeWarning: Early stopping conditioned on metric `val_loss` which is not available. Available metrics are: loss\n",
            "  (self.monitor, ','.join(list(logs.keys()))), RuntimeWarning\n"
          ]
        },
        {
          "name": "stdout",
          "output_type": "stream",
          "text": [
            "1460/1460 [==============================] - 0s 44us/step - loss: 36483128524.8000\n",
            "Epoch 6/30\n",
            "1460/1460 [==============================] - 0s 46us/step - loss: 35054050093.5890\n",
            "Epoch 7/30\n",
            "1460/1460 [==============================] - 0s 38us/step - loss: 33194030223.0794\n",
            "Epoch 8/30\n",
            "1460/1460 [==============================] - 0s 32us/step - loss: 30889925197.1507\n",
            "Epoch 9/30\n",
            "1460/1460 [==============================] - 0s 32us/step - loss: 28092155275.5726\n",
            "Epoch 10/30\n",
            "1460/1460 [==============================] - 0s 33us/step - loss: 24747594311.5397\n",
            "Epoch 11/30\n",
            "1460/1460 [==============================] - 0s 36us/step - loss: 20925912069.6110\n",
            "Epoch 12/30\n",
            "1460/1460 [==============================] - 0s 43us/step - loss: 16971605513.8192\n",
            "Epoch 13/30\n",
            "1460/1460 [==============================] - 0s 35us/step - loss: 13238296163.5945\n",
            "Epoch 14/30\n",
            "1460/1460 [==============================] - 0s 36us/step - loss: 10075523846.3123\n",
            "Epoch 15/30\n",
            "1460/1460 [==============================] - 0s 35us/step - loss: 7675099012.5589\n",
            "Epoch 16/30\n",
            "1460/1460 [==============================] - 0s 43us/step - loss: 6079127929.3370\n",
            "Epoch 17/30\n",
            "1460/1460 [==============================] - 0s 44us/step - loss: 5149457016.6356\n",
            "Epoch 18/30\n",
            "1460/1460 [==============================] - 0s 31us/step - loss: 4692562721.6658\n",
            "Epoch 19/30\n",
            "1460/1460 [==============================] - 0s 35us/step - loss: 4482126337.4027\n",
            "Epoch 20/30\n",
            "1460/1460 [==============================] - 0s 35us/step - loss: 4400006315.8356\n",
            "Epoch 21/30\n",
            "1460/1460 [==============================] - 0s 33us/step - loss: 4363956854.5315\n",
            "Epoch 22/30\n",
            "1460/1460 [==============================] - 0s 41us/step - loss: 4346799088.5699\n",
            "Epoch 23/30\n",
            "1460/1460 [==============================] - 0s 39us/step - loss: 4329084804.5589\n",
            "Epoch 24/30\n",
            "1460/1460 [==============================] - 0s 32us/step - loss: 4307183881.8192\n",
            "Epoch 25/30\n",
            "1460/1460 [==============================] - 0s 35us/step - loss: 4271756921.3370\n",
            "Epoch 26/30\n",
            "1460/1460 [==============================] - 0s 32us/step - loss: 4242046571.3096\n",
            "Epoch 27/30\n",
            "1460/1460 [==============================] - 0s 39us/step - loss: 4212544975.6055\n",
            "Epoch 28/30\n",
            "1460/1460 [==============================] - 0s 37us/step - loss: 4181936942.9918\n",
            "Epoch 29/30\n",
            "1460/1460 [==============================] - 0s 36us/step - loss: 4152809577.2055\n",
            "Epoch 30/30\n",
            "1460/1460 [==============================] - 0s 33us/step - loss: 4123962195.4630\n"
          ]
        },
        {
          "data": {
            "text/plain": [
              "<keras.callbacks.History at 0x7faa03f34048>"
            ]
          },
          "execution_count": 5,
          "metadata": {
            "tags": []
          },
          "output_type": "execute_result"
        }
      ],
      "source": [
        "model.fit(X, Y, epochs=30, callbacks=[keras.callbacks.EarlyStopping(patience=3)])"
      ]
    },
    {
      "cell_type": "markdown",
      "metadata": {
        "id": "OZZ0M0SsViB7"
      },
      "source": [
        "**We now want to make a prediction based on our model. To do this, we create an np.array with the different attributes of a house. The correct order is:**\n",
        "1. YearBuilt\n",
        "2. 2ndFlrSF\n",
        "3. GrLivArea\n",
        "4. FullBath\n",
        "5. HalfBath\n",
        "6. BedroomAbvGr\n",
        "7. TotRmsAbvGrd\n",
        "8. YrSold\n",
        "**You can see the sample data we fed the network was the exact same as the first value in our dataset. The true value of this house was $208500, so you can see we were just a few thousand off. Note that usually to test the model most accurately, we must use data the model has not trained on.**"
      ]
    },
    {
      "cell_type": "code",
      "execution_count": null,
      "metadata": {
        "colab": {
          "base_uri": "https://localhost:8080/",
          "height": 35
        },
        "id": "TN4oDc9B7P1J",
        "outputId": "1f7d9f47-3641-420c-b592-a69a8fc66efc"
      },
      "outputs": [
        {
          "name": "stdout",
          "output_type": "stream",
          "text": [
            "[[204284.23]]\n"
          ]
        }
      ],
      "source": [
        "test_data = np.array([2003,\t854,\t1710,\t2,\t1,\t3,\t8,\t2008])\n",
        "print(model.predict(test_data.reshape(1,8), batch_size=1))"
      ]
    },
    {
      "cell_type": "markdown",
      "metadata": {
        "id": "xKc75rpJWjmd"
      },
      "source": [
        "**Finally, if you want to save this model and use it for later, use the following code. You can see it saved to our colab environment**"
      ]
    },
    {
      "cell_type": "code",
      "execution_count": null,
      "metadata": {
        "colab": {
          "base_uri": "https://localhost:8080/",
          "height": 35
        },
        "id": "1ENSyN8_Vm9q",
        "outputId": "e9bba4d8-0893-41e9-ccfd-5c95bf8170c8"
      },
      "outputs": [
        {
          "name": "stdout",
          "output_type": "stream",
          "text": [
            "drive  sample_data  saved_model.h5\n"
          ]
        }
      ],
      "source": [
        "model.save('saved_model.h5')\n",
        "!ls"
      ]
    },
    {
      "cell_type": "markdown",
      "metadata": {
        "id": "A_pf1cP5WuMf"
      },
      "source": [
        "**To recover the model, use this code. You'll see the outputed number is the same as the one we predicted above, except for we restored the model from a file. By saving a model, it can more easily be deployed to production.**"
      ]
    },
    {
      "cell_type": "code",
      "execution_count": null,
      "metadata": {
        "colab": {
          "base_uri": "https://localhost:8080/",
          "height": 35
        },
        "id": "-rQDU4m8u-gv",
        "outputId": "23379577-3733-4a48-a0a0-d7012bc97634"
      },
      "outputs": [
        {
          "name": "stdout",
          "output_type": "stream",
          "text": [
            "[[204284.23]]\n"
          ]
        }
      ],
      "source": [
        "old_model = keras.models.load_model('saved_model.h5')\n",
        "\n",
        "test_data = np.array([2003,\t854,\t1710,\t2,\t1,\t3,\t8,\t2008])\n",
        "print(old_model.predict(test_data.reshape(1,8), batch_size=1))"
      ]
    },
    {
      "cell_type": "code",
      "execution_count": null,
      "metadata": {
        "id": "FITKFhppZJvv"
      },
      "outputs": [],
      "source": []
    }
  ],
  "metadata": {
    "colab": {
      "provenance": []
    },
    "kernelspec": {
      "display_name": "Python 3 (ipykernel)",
      "language": "python",
      "name": "python3"
    },
    "language_info": {
      "codemirror_mode": {
        "name": "ipython",
        "version": 3
      },
      "file_extension": ".py",
      "mimetype": "text/x-python",
      "name": "python",
      "nbconvert_exporter": "python",
      "pygments_lexer": "ipython3",
      "version": "3.9.12"
    },
    "vscode": {
      "interpreter": {
        "hash": "9e35676d33e03a9093a17dc7760f2b2aa4960ff6d3c0d7dc06348afdc0ca22c8"
      }
    }
  },
  "nbformat": 4,
  "nbformat_minor": 0
}